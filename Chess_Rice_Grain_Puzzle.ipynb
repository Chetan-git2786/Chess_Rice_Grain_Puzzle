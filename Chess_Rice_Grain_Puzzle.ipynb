{
  "nbformat": 4,
  "nbformat_minor": 0,
  "metadata": {
    "colab": {
      "name": "Chess_Rice_Grain_Puzzle.ipynb",
      "provenance": [],
      "collapsed_sections": []
    },
    "kernelspec": {
      "name": "python3",
      "display_name": "Python 3"
    },
    "language_info": {
      "name": "python"
    }
  },
  "cells": [
    {
      "cell_type": "markdown",
      "metadata": {
        "id": "nkDw4yuKbQZg"
      },
      "source": [
        "#### **Chess-Rice Grain Puzzle** :                                                                                *There was once a king in India who was a big chess enthusiast and had the habit of challenging wise visitors to a game of chess. One day a traveling sage was challenged by the king. The sage having played this game all his life all the time with people all over the world gladly accepted the Kings challenge. To motivate his opponent the king offered any reward that the sage could name. The sage modestly asked just for a few grains of rice in the following manner: the king was to put a single grain of rice on the first chess square and double it on every consequent one. The king accepted the sage’s request. Having lost the game and being a man of his word the king ordered a bag of rice to be brought to the chessboard. Then he started placing rice grains according to the arrangement: 1 grain on the first square, 2 on the second, 4 on the third,8 on the fourth, and so on. Write a python one-line program to get the total sum of rice grains king is supposed to pay sage?*"
      ]
    },
    {
      "cell_type": "code",
      "metadata": {
        "colab": {
          "base_uri": "https://localhost:8080/"
        },
        "id": "RbN03wKUbNoZ",
        "outputId": "244f6bfb-e1ff-4512-e348-6e2472b467e4"
      },
      "source": [
        "# Rice Grains on ChessBoard Puzzle code \n",
        "\n",
        "num=int(input()) # Input of the No. of the squares in which the Grains need to be placed\n",
        "if num<0:\n",
        "  print(\"error\")\n",
        "elif num<=64:    # Max. Limit of the no. Squares on a chess board\n",
        "  temp=1         # Temporary variable Initiation\n",
        "  sum=0\n",
        "  for i in range(1,num+1):\n",
        "    temp=(2**i/2)\n",
        "    sum=sum+temp   \n",
        "  print(sum)"
      ],
      "execution_count": 4,
      "outputs": [
        {
          "output_type": "stream",
          "text": [
            "64\n",
            "1.8446744073709552e+19\n"
          ],
          "name": "stdout"
        }
      ]
    }
  ]
}